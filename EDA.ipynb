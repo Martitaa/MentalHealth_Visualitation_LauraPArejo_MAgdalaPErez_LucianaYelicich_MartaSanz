{
 "cells": [
  {
   "cell_type": "markdown",
   "id": "aff457df",
   "metadata": {},
   "source": [
    "# Exploratory Data Analysis - MENTAL  HEALTH"
   ]
  },
  {
   "cell_type": "markdown",
   "id": "b76a57cd",
   "metadata": {},
   "source": [
    "Este proyecto busca explorar los factores que pueden estar relacionados con la ansiedad y depresión en trabajadores. El objetivo del siguiente archivo es la limpieza y categorización de los datos para una posterior mejor visualizacion de estos. "
   ]
  },
  {
   "cell_type": "markdown",
   "id": "af882d92",
   "metadata": {},
   "source": [
    "## 1️⃣ Preparación del entorno"
   ]
  },
  {
   "cell_type": "code",
   "execution_count": 77,
   "id": "3796e6a9",
   "metadata": {},
   "outputs": [
    {
     "name": "stdout",
     "output_type": "stream",
     "text": [
      "Requirement already satisfied: pandas in c:\\users\\hanam\\anaconda3\\lib\\site-packages (2.2.2)\n",
      "Requirement already satisfied: numpy>=1.26.0 in c:\\users\\hanam\\anaconda3\\lib\\site-packages (from pandas) (1.26.4)\n",
      "Requirement already satisfied: python-dateutil>=2.8.2 in c:\\users\\hanam\\anaconda3\\lib\\site-packages (from pandas) (2.9.0.post0)\n",
      "Requirement already satisfied: pytz>=2020.1 in c:\\users\\hanam\\anaconda3\\lib\\site-packages (from pandas) (2024.1)\n",
      "Requirement already satisfied: tzdata>=2022.7 in c:\\users\\hanam\\anaconda3\\lib\\site-packages (from pandas) (2023.3)\n",
      "Requirement already satisfied: six>=1.5 in c:\\users\\hanam\\anaconda3\\lib\\site-packages (from python-dateutil>=2.8.2->pandas) (1.16.0)\n",
      "Note: you may need to restart the kernel to use updated packages.\n",
      "^C\n",
      "Note: you may need to restart the kernel to use updated packages.\n",
      "Requirement already satisfied: numpy in c:\\users\\hanam\\anaconda3\\lib\\site-packages (1.26.4)\n",
      "Requirement already satisfied: matplotlib in c:\\users\\hanam\\anaconda3\\lib\\site-packages (3.9.2)\n",
      "Requirement already satisfied: contourpy>=1.0.1 in c:\\users\\hanam\\anaconda3\\lib\\site-packages (from matplotlib) (1.2.0)\n",
      "Requirement already satisfied: cycler>=0.10 in c:\\users\\hanam\\anaconda3\\lib\\site-packages (from matplotlib) (0.11.0)\n",
      "Requirement already satisfied: fonttools>=4.22.0 in c:\\users\\hanam\\anaconda3\\lib\\site-packages (from matplotlib) (4.51.0)\n",
      "Requirement already satisfied: kiwisolver>=1.3.1 in c:\\users\\hanam\\anaconda3\\lib\\site-packages (from matplotlib) (1.4.4)\n",
      "Requirement already satisfied: numpy>=1.23 in c:\\users\\hanam\\anaconda3\\lib\\site-packages (from matplotlib) (1.26.4)\n",
      "Requirement already satisfied: packaging>=20.0 in c:\\users\\hanam\\anaconda3\\lib\\site-packages (from matplotlib) (24.1)\n",
      "Requirement already satisfied: pillow>=8 in c:\\users\\hanam\\anaconda3\\lib\\site-packages (from matplotlib) (10.4.0)\n",
      "Requirement already satisfied: pyparsing>=2.3.1 in c:\\users\\hanam\\anaconda3\\lib\\site-packages (from matplotlib) (3.1.2)\n",
      "Requirement already satisfied: python-dateutil>=2.7 in c:\\users\\hanam\\anaconda3\\lib\\site-packages (from matplotlib) (2.9.0.post0)\n",
      "Requirement already satisfied: six>=1.5 in c:\\users\\hanam\\anaconda3\\lib\\site-packages (from python-dateutil>=2.7->matplotlib) (1.16.0)\n",
      "Note: you may need to restart the kernel to use updated packages.\n",
      "Requirement already satisfied: seaborn in c:\\users\\hanam\\anaconda3\\lib\\site-packages (0.13.2)\n",
      "Requirement already satisfied: numpy!=1.24.0,>=1.20 in c:\\users\\hanam\\anaconda3\\lib\\site-packages (from seaborn) (1.26.4)\n",
      "Requirement already satisfied: pandas>=1.2 in c:\\users\\hanam\\anaconda3\\lib\\site-packages (from seaborn) (2.2.2)\n",
      "Requirement already satisfied: matplotlib!=3.6.1,>=3.4 in c:\\users\\hanam\\anaconda3\\lib\\site-packages (from seaborn) (3.9.2)\n",
      "Requirement already satisfied: contourpy>=1.0.1 in c:\\users\\hanam\\anaconda3\\lib\\site-packages (from matplotlib!=3.6.1,>=3.4->seaborn) (1.2.0)\n",
      "Requirement already satisfied: cycler>=0.10 in c:\\users\\hanam\\anaconda3\\lib\\site-packages (from matplotlib!=3.6.1,>=3.4->seaborn) (0.11.0)\n",
      "Requirement already satisfied: fonttools>=4.22.0 in c:\\users\\hanam\\anaconda3\\lib\\site-packages (from matplotlib!=3.6.1,>=3.4->seaborn) (4.51.0)\n",
      "Requirement already satisfied: kiwisolver>=1.3.1 in c:\\users\\hanam\\anaconda3\\lib\\site-packages (from matplotlib!=3.6.1,>=3.4->seaborn) (1.4.4)\n",
      "Requirement already satisfied: packaging>=20.0 in c:\\users\\hanam\\anaconda3\\lib\\site-packages (from matplotlib!=3.6.1,>=3.4->seaborn) (24.1)\n",
      "Requirement already satisfied: pillow>=8 in c:\\users\\hanam\\anaconda3\\lib\\site-packages (from matplotlib!=3.6.1,>=3.4->seaborn) (10.4.0)\n",
      "Requirement already satisfied: pyparsing>=2.3.1 in c:\\users\\hanam\\anaconda3\\lib\\site-packages (from matplotlib!=3.6.1,>=3.4->seaborn) (3.1.2)\n",
      "Requirement already satisfied: python-dateutil>=2.7 in c:\\users\\hanam\\anaconda3\\lib\\site-packages (from matplotlib!=3.6.1,>=3.4->seaborn) (2.9.0.post0)\n",
      "Requirement already satisfied: pytz>=2020.1 in c:\\users\\hanam\\anaconda3\\lib\\site-packages (from pandas>=1.2->seaborn) (2024.1)\n",
      "Requirement already satisfied: tzdata>=2022.7 in c:\\users\\hanam\\anaconda3\\lib\\site-packages (from pandas>=1.2->seaborn) (2023.3)\n",
      "Requirement already satisfied: six>=1.5 in c:\\users\\hanam\\anaconda3\\lib\\site-packages (from python-dateutil>=2.7->matplotlib!=3.6.1,>=3.4->seaborn) (1.16.0)\n",
      "Note: you may need to restart the kernel to use updated packages.\n",
      "Note: you may need to restart the kernel to use updated packages.\n"
     ]
    },
    {
     "name": "stderr",
     "output_type": "stream",
     "text": [
      "ERROR: Could not find a version that satisfies the requirement matplotlib.pyplot (from versions: none)\n",
      "ERROR: No matching distribution found for matplotlib.pyplot\n"
     ]
    }
   ],
   "source": [
    "# Instalar librerías\n",
    "\n",
    "%pip install pandas\n",
    "%pip install numpy\n",
    "%pip install matplotlib\n",
    "%pip install seaborn\n",
    "%pip install matplotlib.pyplot"
   ]
  },
  {
   "cell_type": "code",
   "execution_count": null,
   "id": "b6f035fa",
   "metadata": {},
   "outputs": [],
   "source": [
    "import pandas as pd\n",
    "import numpy as np\n",
    "import seaborn as sns\n",
    "import matplotlib.pyplot as plt"
   ]
  },
  {
   "cell_type": "markdown",
   "id": "7ba67403",
   "metadata": {},
   "source": [
    "## 2️⃣ Carga de datasets"
   ]
  },
  {
   "cell_type": "markdown",
   "id": "cdf14928",
   "metadata": {},
   "source": [
    "### Descripción del conjunto de datos"
   ]
  },
  {
   "cell_type": "markdown",
   "id": "1ae25519",
   "metadata": {},
   "source": [
    "El siguiente conjunto de datos contine 10.000 filas, es decir, respuestas. Estas respuestas son de personas encuestadas en sus respectivos puestos de trabajo. "
   ]
  },
  {
   "cell_type": "code",
   "execution_count": null,
   "id": "1d5bae51",
   "metadata": {},
   "outputs": [],
   "source": [
    "df = pd.read_csv('mental_health_dataset.csv')"
   ]
  },
  {
   "cell_type": "code",
   "execution_count": null,
   "id": "70a44202",
   "metadata": {},
   "outputs": [
    {
     "data": {
      "text/html": [
       "<div>\n",
       "<style scoped>\n",
       "    .dataframe tbody tr th:only-of-type {\n",
       "        vertical-align: middle;\n",
       "    }\n",
       "\n",
       "    .dataframe tbody tr th {\n",
       "        vertical-align: top;\n",
       "    }\n",
       "\n",
       "    .dataframe thead th {\n",
       "        text-align: right;\n",
       "    }\n",
       "</style>\n",
       "<table border=\"1\" class=\"dataframe\">\n",
       "  <thead>\n",
       "    <tr style=\"text-align: right;\">\n",
       "      <th></th>\n",
       "      <th>age</th>\n",
       "      <th>gender</th>\n",
       "      <th>employment_status</th>\n",
       "      <th>work_environment</th>\n",
       "      <th>mental_health_history</th>\n",
       "      <th>seeks_treatment</th>\n",
       "      <th>stress_level</th>\n",
       "      <th>sleep_hours</th>\n",
       "      <th>physical_activity_days</th>\n",
       "      <th>depression_score</th>\n",
       "      <th>anxiety_score</th>\n",
       "      <th>social_support_score</th>\n",
       "      <th>productivity_score</th>\n",
       "      <th>mental_health_risk</th>\n",
       "    </tr>\n",
       "  </thead>\n",
       "  <tbody>\n",
       "    <tr>\n",
       "      <th>0</th>\n",
       "      <td>56</td>\n",
       "      <td>Male</td>\n",
       "      <td>Employed</td>\n",
       "      <td>On-site</td>\n",
       "      <td>Yes</td>\n",
       "      <td>Yes</td>\n",
       "      <td>6</td>\n",
       "      <td>6.2</td>\n",
       "      <td>3</td>\n",
       "      <td>28</td>\n",
       "      <td>17</td>\n",
       "      <td>54</td>\n",
       "      <td>59.7</td>\n",
       "      <td>High</td>\n",
       "    </tr>\n",
       "    <tr>\n",
       "      <th>1</th>\n",
       "      <td>46</td>\n",
       "      <td>Female</td>\n",
       "      <td>Student</td>\n",
       "      <td>On-site</td>\n",
       "      <td>No</td>\n",
       "      <td>Yes</td>\n",
       "      <td>10</td>\n",
       "      <td>9.0</td>\n",
       "      <td>4</td>\n",
       "      <td>30</td>\n",
       "      <td>11</td>\n",
       "      <td>85</td>\n",
       "      <td>54.9</td>\n",
       "      <td>High</td>\n",
       "    </tr>\n",
       "    <tr>\n",
       "      <th>2</th>\n",
       "      <td>32</td>\n",
       "      <td>Female</td>\n",
       "      <td>Employed</td>\n",
       "      <td>On-site</td>\n",
       "      <td>Yes</td>\n",
       "      <td>No</td>\n",
       "      <td>7</td>\n",
       "      <td>7.7</td>\n",
       "      <td>2</td>\n",
       "      <td>24</td>\n",
       "      <td>7</td>\n",
       "      <td>62</td>\n",
       "      <td>61.3</td>\n",
       "      <td>Medium</td>\n",
       "    </tr>\n",
       "    <tr>\n",
       "      <th>3</th>\n",
       "      <td>60</td>\n",
       "      <td>Non-binary</td>\n",
       "      <td>Self-employed</td>\n",
       "      <td>On-site</td>\n",
       "      <td>No</td>\n",
       "      <td>No</td>\n",
       "      <td>4</td>\n",
       "      <td>4.5</td>\n",
       "      <td>4</td>\n",
       "      <td>6</td>\n",
       "      <td>0</td>\n",
       "      <td>95</td>\n",
       "      <td>97.0</td>\n",
       "      <td>Low</td>\n",
       "    </tr>\n",
       "    <tr>\n",
       "      <th>4</th>\n",
       "      <td>25</td>\n",
       "      <td>Female</td>\n",
       "      <td>Self-employed</td>\n",
       "      <td>On-site</td>\n",
       "      <td>Yes</td>\n",
       "      <td>Yes</td>\n",
       "      <td>3</td>\n",
       "      <td>5.4</td>\n",
       "      <td>0</td>\n",
       "      <td>24</td>\n",
       "      <td>12</td>\n",
       "      <td>70</td>\n",
       "      <td>69.0</td>\n",
       "      <td>High</td>\n",
       "    </tr>\n",
       "  </tbody>\n",
       "</table>\n",
       "</div>"
      ],
      "text/plain": [
       "   age      gender employment_status work_environment mental_health_history  \\\n",
       "0   56        Male          Employed          On-site                   Yes   \n",
       "1   46      Female           Student          On-site                    No   \n",
       "2   32      Female          Employed          On-site                   Yes   \n",
       "3   60  Non-binary     Self-employed          On-site                    No   \n",
       "4   25      Female     Self-employed          On-site                   Yes   \n",
       "\n",
       "  seeks_treatment  stress_level  sleep_hours  physical_activity_days  \\\n",
       "0             Yes             6          6.2                       3   \n",
       "1             Yes            10          9.0                       4   \n",
       "2              No             7          7.7                       2   \n",
       "3              No             4          4.5                       4   \n",
       "4             Yes             3          5.4                       0   \n",
       "\n",
       "   depression_score  anxiety_score  social_support_score  productivity_score  \\\n",
       "0                28             17                    54                59.7   \n",
       "1                30             11                    85                54.9   \n",
       "2                24              7                    62                61.3   \n",
       "3                 6              0                    95                97.0   \n",
       "4                24             12                    70                69.0   \n",
       "\n",
       "  mental_health_risk  \n",
       "0               High  \n",
       "1               High  \n",
       "2             Medium  \n",
       "3                Low  \n",
       "4               High  "
      ]
     },
     "execution_count": 45,
     "metadata": {},
     "output_type": "execute_result"
    }
   ],
   "source": [
    "df.head()"
   ]
  },
  {
   "cell_type": "code",
   "execution_count": null,
   "id": "b7949570",
   "metadata": {},
   "outputs": [
    {
     "name": "stdout",
     "output_type": "stream",
     "text": [
      "<class 'pandas.core.frame.DataFrame'>\n",
      "RangeIndex: 10000 entries, 0 to 9999\n",
      "Data columns (total 14 columns):\n",
      " #   Column                  Non-Null Count  Dtype  \n",
      "---  ------                  --------------  -----  \n",
      " 0   age                     10000 non-null  int64  \n",
      " 1   gender                  10000 non-null  object \n",
      " 2   employment_status       10000 non-null  object \n",
      " 3   work_environment        10000 non-null  object \n",
      " 4   mental_health_history   10000 non-null  object \n",
      " 5   seeks_treatment         10000 non-null  object \n",
      " 6   stress_level            10000 non-null  int64  \n",
      " 7   sleep_hours             10000 non-null  float64\n",
      " 8   physical_activity_days  10000 non-null  int64  \n",
      " 9   depression_score        10000 non-null  int64  \n",
      " 10  anxiety_score           10000 non-null  int64  \n",
      " 11  social_support_score    10000 non-null  int64  \n",
      " 12  productivity_score      10000 non-null  float64\n",
      " 13  mental_health_risk      10000 non-null  object \n",
      "dtypes: float64(2), int64(6), object(6)\n",
      "memory usage: 1.1+ MB\n"
     ]
    }
   ],
   "source": [
    "df.info()"
   ]
  },
  {
   "cell_type": "markdown",
   "id": "b90d8eb0",
   "metadata": {},
   "source": [
    "### Comprobación de nulos"
   ]
  },
  {
   "cell_type": "code",
   "execution_count": null,
   "id": "1eb5b25c",
   "metadata": {},
   "outputs": [
    {
     "name": "stdout",
     "output_type": "stream",
     "text": [
      "\n",
      "❓ Valores nulos - Mental Health dataset:\n"
     ]
    },
    {
     "data": {
      "text/plain": [
       "age                       0\n",
       "gender                    0\n",
       "employment_status         0\n",
       "work_environment          0\n",
       "mental_health_history     0\n",
       "seeks_treatment           0\n",
       "stress_level              0\n",
       "sleep_hours               0\n",
       "physical_activity_days    0\n",
       "depression_score          0\n",
       "anxiety_score             0\n",
       "social_support_score      0\n",
       "productivity_score        0\n",
       "mental_health_risk        0\n",
       "dtype: int64"
      ]
     },
     "metadata": {},
     "output_type": "display_data"
    }
   ],
   "source": [
    "print(\"\\n❓ Valores nulos - Mental Health dataset:\")\n",
    "display(df.isnull().sum())"
   ]
  },
  {
   "cell_type": "markdown",
   "id": "5c12a02e",
   "metadata": {},
   "source": [
    "### Detección y visualización de outliers"
   ]
  },
  {
   "cell_type": "code",
   "execution_count": null,
   "id": "ee07be6d",
   "metadata": {},
   "outputs": [
    {
     "name": "stdout",
     "output_type": "stream",
     "text": [
      "📊 Variables numéricas analizadas: ['age', 'stress_level', 'sleep_hours', 'physical_activity_days', 'depression_score', 'anxiety_score', 'social_support_score', 'productivity_score']\n",
      "\n"
     ]
    }
   ],
   "source": [
    "num_cols = df.select_dtypes(include=[\"int\", \"float\"]).columns\n",
    "\n",
    "print(f\"📊 Variables numéricas analizadas: {list(num_cols)}\\n\")"
   ]
  },
  {
   "cell_type": "code",
   "execution_count": null,
   "id": "49cf1ef2",
   "metadata": {},
   "outputs": [],
   "source": [
    "# Función para calcular outliers con método IQR (Interquartile Range)\n",
    "def detectar_outliers(col):\n",
    "    Q1 = df[col].quantile(0.25) # 1er cuartil (25% de los datos)\n",
    "    Q3 = df[col].quantile(0.75) # 3er cuartil (75% de los datos)\n",
    "    IQR = Q3 - Q1\n",
    "    lower = Q1 - 1.5 * IQR # Límite inferior\n",
    "    upper = Q3 + 1.5 * IQR # Límite superior\n",
    "\n",
    "    # Filtrar filas donde la columna está fuera de los límites\n",
    "    outliers = df[(df[col] < lower) | (df[col] > upper)]\n",
    "\n",
    "    # Retorna: cantidad de outliers, límite inferior, límite superior\n",
    "    return outliers.shape[0], lower, upper\n",
    "\n",
    "# Se considera un valor atípico si está muy lejos del rango central"
   ]
  },
  {
   "cell_type": "code",
   "execution_count": null,
   "id": "934a05c9",
   "metadata": {},
   "outputs": [],
   "source": [
    "# Resumen de outliers por variable\n",
    "\n",
    "# Creamos un diccionario vacío donde vamos a guardar el resumen de outliers\n",
    "outliers_resumen = {}\n",
    "\n",
    "# Aplicamos la función detectar_outliers a cada columna\n",
    "for col in num_cols:\n",
    "    n_out, low, up = detectar_outliers(col)\n",
    "\n",
    "    # Guardamos los resultados en el diccionario outliers_resumen\n",
    "    outliers_resumen[col] = {\n",
    "        \"N_outliers\": n_out,\n",
    "        \"Límite inferior\": round(low, 2), # redondeamos a 2 decimales\n",
    "        \"Límite superior\": round(up, 2) # redondeamos a 2 decimales\n",
    "    }"
   ]
  },
  {
   "cell_type": "code",
   "execution_count": null,
   "id": "6bfd6a0a",
   "metadata": {},
   "outputs": [
    {
     "data": {
      "text/html": [
       "<div>\n",
       "<style scoped>\n",
       "    .dataframe tbody tr th:only-of-type {\n",
       "        vertical-align: middle;\n",
       "    }\n",
       "\n",
       "    .dataframe tbody tr th {\n",
       "        vertical-align: top;\n",
       "    }\n",
       "\n",
       "    .dataframe thead th {\n",
       "        text-align: right;\n",
       "    }\n",
       "</style>\n",
       "<table border=\"1\" class=\"dataframe\">\n",
       "  <thead>\n",
       "    <tr style=\"text-align: right;\">\n",
       "      <th></th>\n",
       "      <th>N_outliers</th>\n",
       "      <th>Límite inferior</th>\n",
       "      <th>Límite superior</th>\n",
       "    </tr>\n",
       "  </thead>\n",
       "  <tbody>\n",
       "    <tr>\n",
       "      <th>age</th>\n",
       "      <td>0.0</td>\n",
       "      <td>-4.5</td>\n",
       "      <td>87.5</td>\n",
       "    </tr>\n",
       "    <tr>\n",
       "      <th>stress_level</th>\n",
       "      <td>0.0</td>\n",
       "      <td>-4.5</td>\n",
       "      <td>15.5</td>\n",
       "    </tr>\n",
       "    <tr>\n",
       "      <th>sleep_hours</th>\n",
       "      <td>0.0</td>\n",
       "      <td>2.5</td>\n",
       "      <td>10.5</td>\n",
       "    </tr>\n",
       "    <tr>\n",
       "      <th>physical_activity_days</th>\n",
       "      <td>0.0</td>\n",
       "      <td>-2.5</td>\n",
       "      <td>9.5</td>\n",
       "    </tr>\n",
       "    <tr>\n",
       "      <th>depression_score</th>\n",
       "      <td>0.0</td>\n",
       "      <td>-17.0</td>\n",
       "      <td>47.0</td>\n",
       "    </tr>\n",
       "    <tr>\n",
       "      <th>anxiety_score</th>\n",
       "      <td>0.0</td>\n",
       "      <td>-11.5</td>\n",
       "      <td>32.5</td>\n",
       "    </tr>\n",
       "    <tr>\n",
       "      <th>social_support_score</th>\n",
       "      <td>0.0</td>\n",
       "      <td>-51.5</td>\n",
       "      <td>152.5</td>\n",
       "    </tr>\n",
       "    <tr>\n",
       "      <th>productivity_score</th>\n",
       "      <td>0.0</td>\n",
       "      <td>30.7</td>\n",
       "      <td>124.3</td>\n",
       "    </tr>\n",
       "  </tbody>\n",
       "</table>\n",
       "</div>"
      ],
      "text/plain": [
       "                        N_outliers  Límite inferior  Límite superior\n",
       "age                            0.0             -4.5             87.5\n",
       "stress_level                   0.0             -4.5             15.5\n",
       "sleep_hours                    0.0              2.5             10.5\n",
       "physical_activity_days         0.0             -2.5              9.5\n",
       "depression_score               0.0            -17.0             47.0\n",
       "anxiety_score                  0.0            -11.5             32.5\n",
       "social_support_score           0.0            -51.5            152.5\n",
       "productivity_score             0.0             30.7            124.3"
      ]
     },
     "metadata": {},
     "output_type": "display_data"
    }
   ],
   "source": [
    "# Mostrar tabla de resumen\n",
    "outliers_df = pd.DataFrame(outliers_resumen).T\n",
    "display(outliers_df)\n",
    "### Lectura de los ouliners: n_outliers_ numero de valores atipicos detectados en esa variable, valor minimo aceptable dentro del radon normal y limite superior valor máximo dentro del rango normal. En los datos numericos no se encuentran outliers. "
   ]
  },
  {
   "cell_type": "code",
   "execution_count": null,
   "id": "42c71280",
   "metadata": {},
   "outputs": [
    {
     "data": {
      "text/plain": [
       "age                         int64\n",
       "gender                     object\n",
       "employment_status          object\n",
       "work_environment           object\n",
       "mental_health_history      object\n",
       "seeks_treatment            object\n",
       "stress_level                int64\n",
       "sleep_hours               float64\n",
       "physical_activity_days      int64\n",
       "depression_score            int64\n",
       "anxiety_score               int64\n",
       "social_support_score        int64\n",
       "productivity_score        float64\n",
       "mental_health_risk         object\n",
       "dtype: object"
      ]
     },
     "execution_count": 51,
     "metadata": {},
     "output_type": "execute_result"
    }
   ],
   "source": [
    "df.dtypes"
   ]
  },
  {
   "cell_type": "code",
   "execution_count": null,
   "id": "202b2380",
   "metadata": {},
   "outputs": [
    {
     "name": "stdout",
     "output_type": "stream",
     "text": [
      "Index(['gender', 'employment_status', 'work_environment',\n",
      "       'mental_health_history', 'seeks_treatment', 'mental_health_risk'],\n",
      "      dtype='object')\n"
     ]
    }
   ],
   "source": [
    "columnas_df_objeto = df.select_dtypes(include='object').columns\n",
    "print(columnas_df_objeto)\n"
   ]
  },
  {
   "cell_type": "code",
   "execution_count": null,
   "id": "bd48b766",
   "metadata": {},
   "outputs": [
    {
     "name": "stdout",
     "output_type": "stream",
     "text": [
      "\n",
      " gender\n",
      "['Male' 'Female' 'Non-binary' 'Prefer not to say']\n",
      "\n",
      " employment_status\n",
      "['Employed' 'Student' 'Self-employed' 'Unemployed']\n",
      "\n",
      " work_environment\n",
      "['On-site' 'Remote' 'Hybrid']\n",
      "\n",
      " mental_health_history\n",
      "['Yes' 'No']\n",
      "\n",
      " seeks_treatment\n",
      "['Yes' 'No']\n",
      "\n",
      " mental_health_risk\n",
      "['High' 'Medium' 'Low']\n"
     ]
    }
   ],
   "source": [
    "for col in columnas_df_objeto: \n",
    "    print(f\"\\n {col}\")\n",
    "    print(df[col].unique())"
   ]
  },
  {
   "cell_type": "markdown",
   "id": "67241a76",
   "metadata": {},
   "source": [
    "## 3️⃣ Categorización de variables\n"
   ]
  },
  {
   "cell_type": "markdown",
   "id": "81d0e730",
   "metadata": {},
   "source": [
    "anxiety_score : GAD-7 (Generalized Anxiety Disorder-7)  The GAD-7 total score for the seven items ranges from 0 to 21. Scores of 5, 10, and 15 represent cut points for mild, moderate, and severe anxiety, respectively.”\n",
    "\n",
    "\n",
    "| PUNTAJE TOTAL | NIVEL DE ANSIEDAD     |\n",
    "|---------------|---------------------|\n",
    "| 0 - 4         | Mínimo o ninguno     |\n",
    "| 5 - 9         | Leve                 |\n",
    "| 10 - 14       | Moderado             |\n",
    "| 15 - 21       | Severo               |"
   ]
  },
  {
   "cell_type": "markdown",
   "id": "4a4fd179",
   "metadata": {},
   "source": [
    "depression_score: Test PHQ-9 – Cuestionario de Salud del Paciente (Patient Health Questionnaire-9), “The PHQ-9 scores each of the 9 DSM-IV criteria from ‘0’ (not at all) to ‘3’ (nearly every day), providing a 0–27 severity score. Depression severity is categorized as follows: 5–9 mild, 10–14 moderate, 15–19 moderately severe, and 20–27 severe.”\n",
    "\n",
    "| Puntuación total | Nivel de depresión    |\n",
    "|-----------------|------------------------|\n",
    "| 0–4             | Mínimo o ninguno       |\n",
    "| 5–9             | Leve                   |\n",
    "| 10–14           | Moderado               |\n",
    "| 15–19           | Moderadamente grave    |\n",
    "| 20–27           | Severo                 |\n"
   ]
  },
  {
   "cell_type": "markdown",
   "id": "c50c3e94",
   "metadata": {},
   "source": [
    "#### Creación de las nuevas variables categorizadas"
   ]
  },
  {
   "cell_type": "code",
   "execution_count": null,
   "id": "13b729fb",
   "metadata": {},
   "outputs": [
    {
     "name": "stdout",
     "output_type": "stream",
     "text": [
      "Cantidad de filas con depression_score > 27: 1015\n"
     ]
    }
   ],
   "source": [
    "# Contar cuántos valores son mayores a 27\n",
    "cantidad_fuera_rango = (df['depression_score'] > 27).sum()\n",
    "print(\"Cantidad de filas con depression_score > 27:\", cantidad_fuera_rango)"
   ]
  },
  {
   "cell_type": "code",
   "execution_count": null,
   "id": "4507e8d1",
   "metadata": {},
   "outputs": [],
   "source": [
    "df.loc[df[\"depression_score\"]>27, \"depression_score\"] = df[\"depression_score\"].median()"
   ]
  },
  {
   "cell_type": "code",
   "execution_count": null,
   "id": "87371ad8",
   "metadata": {},
   "outputs": [
    {
     "name": "stdout",
     "output_type": "stream",
     "text": [
      "Cantidad de filas con depression_score > 27: 0\n"
     ]
    }
   ],
   "source": [
    "# Contar cuántos valores son mayores a 27\n",
    "imputacion_depression = (df['depression_score'] > 27).sum()\n",
    "print(\"Cantidad de filas con depression_score > 27:\", imputacion_depression)"
   ]
  },
  {
   "cell_type": "code",
   "execution_count": null,
   "id": "14987d01",
   "metadata": {},
   "outputs": [],
   "source": [
    "categorizacion_depresion= []\n",
    "\n",
    "for score in df[\"depression_score\"]:\n",
    "    if 0 <= score <= 4:\n",
    "        categorizacion_depresion.append (\"Mínimo o ninguno\")\n",
    "    elif 5 <= score <= 9:\n",
    "        categorizacion_depresion.append (\"Leve\")\n",
    "    elif 10 <= score <= 14:\n",
    "        categorizacion_depresion.append (\"Moderada\")\n",
    "    elif 15 <= score <= 19:\n",
    "        categorizacion_depresion.append (\"Moderadamente grave\")\n",
    "    elif 20 <= score <= 27:\n",
    "        categorizacion_depresion.append (\"Severo\")\n",
    "    else: \n",
    "        categorizacion_depresion.append (\"Fuera del rango\")\n",
    "\n",
    "df[\"nivel_depresion\"] = categorizacion_depresion"
   ]
  },
  {
   "cell_type": "code",
   "execution_count": null,
   "id": "cda3786e",
   "metadata": {},
   "outputs": [
    {
     "data": {
      "image/png": "[encoded data removed]",
      "text/plain": [
       "<Figure size 1000x1000 with 1 Axes>"
      ]
     },
     "metadata": {},
     "output_type": "display_data"
    }
   ],
   "source": [
    "orden_categorias_depresion = [\n",
    "    \"Mínimo o ninguno\",\n",
    "    \"Leve\",\n",
    "    \"Moderada\",\n",
    "    \"Moderadamente grave\",\n",
    "    \"Severo\",\n",
    "]\n",
    "\n",
    "plt.figure(figsize=(10,10))\n",
    "sns.countplot(\n",
    "    x='nivel_depresion', \n",
    "    data=df, \n",
    "    hue='nivel_depresion', \n",
    "    palette='Set2', \n",
    "    legend=False,\n",
    "    order=orden_categorias_depresion  # <-- aquí indicamos el orden\n",
    ")\n",
    "plt.show()"
   ]
  },
  {
   "cell_type": "code",
   "execution_count": null,
   "id": "bd6514fd",
   "metadata": {},
   "outputs": [
    {
     "name": "stdout",
     "output_type": "stream",
     "text": [
      "Cantidad de filas con anxiety_score > 21: 0\n"
     ]
    }
   ],
   "source": [
    "# Contar cuántos valores son mayores a 21\n",
    "cantidad_fuera_rango_ansiedad = (df['anxiety_score'] > 21).sum()\n",
    "print(\"Cantidad de filas con anxiety_score > 21:\", cantidad_fuera_rango_ansiedad)"
   ]
  },
  {
   "cell_type": "code",
   "execution_count": null,
   "id": "5debbdcb",
   "metadata": {},
   "outputs": [
    {
     "name": "stdout",
     "output_type": "stream",
     "text": [
      "      anxiety_score    nivel_ansiedad\n",
      "0                17            Severo\n",
      "1                11          Moderado\n",
      "2                 7              Leve\n",
      "3                 0  Mínimo o ninguno\n",
      "4                12          Moderado\n",
      "...             ...               ...\n",
      "9995             21            Severo\n",
      "9996             12          Moderado\n",
      "9997             18            Severo\n",
      "9998             21            Severo\n",
      "9999             16            Severo\n",
      "\n",
      "[10000 rows x 2 columns]\n"
     ]
    }
   ],
   "source": [
    "categorizacion_ansiedad = []\n",
    "\n",
    "for score in df[\"anxiety_score\"]:\n",
    "    if 0 <= score <= 4:\n",
    "        categorizacion_ansiedad.append(\"Mínimo o ninguno\")\n",
    "    elif 5 <= score <= 9:\n",
    "        categorizacion_ansiedad.append(\"Leve\")\n",
    "    elif 10 <= score <= 14:\n",
    "        categorizacion_ansiedad.append(\"Moderado\")\n",
    "    elif 15 <= score <= 21:\n",
    "        categorizacion_ansiedad.append(\"Severo\")\n",
    "    else:\n",
    "        categorizacion_ansiedad.append(\"Fuera de rango\")  \n",
    "\n",
    "df[\"nivel_ansiedad\"] = categorizacion_ansiedad\n",
    "\n",
    "print(df[[\"anxiety_score\", \"nivel_ansiedad\"]])\n"
   ]
  },
  {
   "cell_type": "code",
   "execution_count": null,
   "id": "aed7fa03",
   "metadata": {},
   "outputs": [
    {
     "data": {
      "image/png": "[encoded data removed]",
      "text/plain": [
       "<Figure size 1000x1000 with 1 Axes>"
      ]
     },
     "metadata": {},
     "output_type": "display_data"
    }
   ],
   "source": [
    "orden_categorias_ansiedad = [\n",
    "    \"Mínimo o ninguno\",\n",
    "    \"Leve\",\n",
    "    \"Moderado\",\n",
    "    \"Severo\"\n",
    "]\n",
    "\n",
    "plt.figure(figsize=(10,10))\n",
    "sns.countplot(\n",
    "    x='nivel_ansiedad', \n",
    "    data=df, \n",
    "    hue='nivel_ansiedad', \n",
    "    palette='Set2', \n",
    "    legend=False,\n",
    "    order=orden_categorias_ansiedad  # <-- aquí indicamos el orden\n",
    ")\n",
    "plt.show()"
   ]
  },
  {
   "cell_type": "code",
   "execution_count": null,
   "id": "8a054b8c",
   "metadata": {},
   "outputs": [
    {
     "name": "stdout",
     "output_type": "stream",
     "text": [
      "<class 'pandas.core.frame.DataFrame'>\n",
      "RangeIndex: 10000 entries, 0 to 9999\n",
      "Data columns (total 17 columns):\n",
      " #   Column                  Non-Null Count  Dtype  \n",
      "---  ------                  --------------  -----  \n",
      " 0   age                     10000 non-null  int64  \n",
      " 1   gender                  10000 non-null  object \n",
      " 2   employment_status       10000 non-null  object \n",
      " 3   work_environment        10000 non-null  object \n",
      " 4   mental_health_history   10000 non-null  object \n",
      " 5   seeks_treatment         10000 non-null  object \n",
      " 6   stress_level            10000 non-null  int64  \n",
      " 7   sleep_hours             10000 non-null  float64\n",
      " 8   physical_activity_days  10000 non-null  int64  \n",
      " 9   depression_score        10000 non-null  int64  \n",
      " 10  anxiety_score           10000 non-null  int64  \n",
      " 11  social_support_score    10000 non-null  int64  \n",
      " 12  productivity_score      10000 non-null  float64\n",
      " 13  mental_health_risk      10000 non-null  object \n",
      " 14  nivel_depresion_v2      10000 non-null  object \n",
      " 15  nivel_depresion         10000 non-null  object \n",
      " 16  nivel_ansiedad          10000 non-null  object \n",
      "dtypes: float64(2), int64(6), object(9)\n",
      "memory usage: 1.3+ MB\n"
     ]
    }
   ],
   "source": [
    "df.info()"
   ]
  },
  {
   "cell_type": "code",
   "execution_count": null,
   "id": "3ce1c2f0",
   "metadata": {},
   "outputs": [],
   "source": []
  }
 ],
 "metadata": {
  "kernelspec": {
   "display_name": "base",
   "language": "python",
   "name": "python3"
  },
  "language_info": {
   "codemirror_mode": {
    "name": "ipython",
    "version": 3
   },
   "file_extension": ".py",
   "mimetype": "text/x-python",
   "name": "python",
   "nbconvert_exporter": "python",
   "pygments_lexer": "ipython3",
   "version": "3.12.7"
  }
 },
 "nbformat": 4,
 "nbformat_minor": 5
}
